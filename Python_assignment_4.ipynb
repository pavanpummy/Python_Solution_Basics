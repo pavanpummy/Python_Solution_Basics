{
 "cells": [
  {
   "cell_type": "markdown",
   "id": "d53dfeda",
   "metadata": {},
   "source": [
    "# Question 1.1 solution"
   ]
  },
  {
   "cell_type": "code",
   "execution_count": 48,
   "id": "9b5978f2",
   "metadata": {},
   "outputs": [],
   "source": [
    "class triangle():\n",
    "    def __init__(self,a,b,c):\n",
    "        self.a = a\n",
    "        self.b = b\n",
    "        self.c = c\n",
    "        \n",
    "class areaOfTriangle(triangle):\n",
    "    def __init__(self,a,b,c):\n",
    "        super().__init__(a,b,c)\n",
    "        \n",
    "    def realArea(self):\n",
    "        s = (self.a+self.b+self.c)/2\n",
    "        return (s*(s-self.a)*(s-self.b)*(s-self.c))**0.5"
   ]
  },
  {
   "cell_type": "code",
   "execution_count": 49,
   "id": "1b9aaae9",
   "metadata": {},
   "outputs": [],
   "source": [
    "t = areaOfTriangle(5,5,5)"
   ]
  },
  {
   "cell_type": "code",
   "execution_count": 50,
   "id": "b03f4ad8",
   "metadata": {},
   "outputs": [
    {
     "name": "stdout",
     "output_type": "stream",
     "text": [
      "10.825317547305483\n"
     ]
    }
   ],
   "source": [
    "print(t.realArea())"
   ]
  },
  {
   "cell_type": "markdown",
   "id": "d95ddc98",
   "metadata": {},
   "source": [
    "# Question 1.2 solution"
   ]
  },
  {
   "cell_type": "code",
   "execution_count": 51,
   "id": "32b1e15c",
   "metadata": {},
   "outputs": [],
   "source": [
    "def filter_long_words(list,n):\n",
    "    longlist = []\n",
    "    for i in list:\n",
    "        if len(i) > n:\n",
    "            longlist.append(i)\n",
    "    return longlist"
   ]
  },
  {
   "cell_type": "code",
   "execution_count": 52,
   "id": "d31565a8",
   "metadata": {},
   "outputs": [
    {
     "data": {
      "text/plain": [
       "['thank',\n",
       " 'you',\n",
       " 'for',\n",
       " 'your',\n",
       " 'time',\n",
       " 'for',\n",
       " 'reviewing',\n",
       " 'this',\n",
       " 'assignment']"
      ]
     },
     "execution_count": 52,
     "metadata": {},
     "output_type": "execute_result"
    }
   ],
   "source": [
    "filter_long_words(['i','thank','you','for','your','time','to','for','reviewing','this','assignment'],2)"
   ]
  },
  {
   "cell_type": "markdown",
   "id": "33bdf9db",
   "metadata": {},
   "source": [
    "# Question 2.1 solution"
   ]
  },
  {
   "cell_type": "code",
   "execution_count": 53,
   "id": "d128b645",
   "metadata": {},
   "outputs": [],
   "source": [
    "def len_of_words(list):\n",
    "    intList = []\n",
    "    for i in list:\n",
    "        intList.append(len(i))\n",
    "    return intList"
   ]
  },
  {
   "cell_type": "code",
   "execution_count": 54,
   "id": "3aa0007a",
   "metadata": {},
   "outputs": [
    {
     "name": "stdout",
     "output_type": "stream",
     "text": [
      "[10, 4, 5, 4, 3, 4, 6]\n"
     ]
    }
   ],
   "source": [
    "print(len_of_words(['appreciate','your','great','help','for','this','course']))"
   ]
  },
  {
   "cell_type": "markdown",
   "id": "7edf658e",
   "metadata": {},
   "source": [
    "# Question 2.2 solution"
   ]
  },
  {
   "cell_type": "code",
   "execution_count": 55,
   "id": "954b0f39",
   "metadata": {},
   "outputs": [],
   "source": [
    "def isVowel(x):\n",
    "    if x in ('a','e','i','o','u'):\n",
    "        return True\n",
    "    else:\n",
    "        return False"
   ]
  },
  {
   "cell_type": "code",
   "execution_count": 56,
   "id": "127c145c",
   "metadata": {},
   "outputs": [
    {
     "name": "stdout",
     "output_type": "stream",
     "text": [
      "False\n"
     ]
    }
   ],
   "source": [
    "print(isVowel('b'))"
   ]
  },
  {
   "cell_type": "code",
   "execution_count": 57,
   "id": "c2295718",
   "metadata": {},
   "outputs": [
    {
     "name": "stdout",
     "output_type": "stream",
     "text": [
      "True\n"
     ]
    }
   ],
   "source": [
    "print(isVowel('a'))"
   ]
  },
  {
   "cell_type": "code",
   "execution_count": null,
   "id": "68c7d33f",
   "metadata": {},
   "outputs": [],
   "source": []
  }
 ],
 "metadata": {
  "kernelspec": {
   "display_name": "Python 3 (ipykernel)",
   "language": "python",
   "name": "python3"
  },
  "language_info": {
   "codemirror_mode": {
    "name": "ipython",
    "version": 3
   },
   "file_extension": ".py",
   "mimetype": "text/x-python",
   "name": "python",
   "nbconvert_exporter": "python",
   "pygments_lexer": "ipython3",
   "version": "3.9.13"
  }
 },
 "nbformat": 4,
 "nbformat_minor": 5
}
