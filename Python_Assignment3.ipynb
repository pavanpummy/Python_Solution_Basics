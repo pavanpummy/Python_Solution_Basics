{
 "cells": [
  {
   "cell_type": "markdown",
   "id": "954031ab",
   "metadata": {},
   "source": [
    "# Question 1 solution"
   ]
  },
  {
   "cell_type": "code",
   "execution_count": 13,
   "id": "6e45ba42",
   "metadata": {},
   "outputs": [],
   "source": [
    "def myreduce(any_func,data,fe):\n",
    "    if fe == None:\n",
    "        temp = next(iter(data))\n",
    "    else:\n",
    "        temp = fe\n",
    "    for i in data[1:]:\n",
    "        temp = any_func(temp,i)\n",
    "    return temp"
   ]
  },
  {
   "cell_type": "code",
   "execution_count": 5,
   "id": "fbb87ec5",
   "metadata": {},
   "outputs": [],
   "source": [
    "def sumoftwo(a,b):\n",
    "    return a+b"
   ]
  },
  {
   "cell_type": "code",
   "execution_count": 8,
   "id": "7fd9a770",
   "metadata": {},
   "outputs": [],
   "source": [
    "list1=[1,2,3,4,5,6,7,8,9]"
   ]
  },
  {
   "cell_type": "code",
   "execution_count": 14,
   "id": "4357e7a7",
   "metadata": {},
   "outputs": [
    {
     "name": "stdout",
     "output_type": "stream",
     "text": [
      "45\n"
     ]
    }
   ],
   "source": [
    "print(myreduce(sumoftwo,list1,None))"
   ]
  },
  {
   "cell_type": "code",
   "execution_count": 10,
   "id": "0b21ed20",
   "metadata": {},
   "outputs": [],
   "source": [
    "s1 = (69,88,12)"
   ]
  },
  {
   "cell_type": "code",
   "execution_count": 15,
   "id": "e2861ee0",
   "metadata": {},
   "outputs": [
    {
     "name": "stdout",
     "output_type": "stream",
     "text": [
      "169\n"
     ]
    }
   ],
   "source": [
    "print(myreduce(sumoftwo,s1,None))"
   ]
  },
  {
   "cell_type": "markdown",
   "id": "0fac310d",
   "metadata": {},
   "source": [
    "# Question 2 solution"
   ]
  },
  {
   "cell_type": "code",
   "execution_count": 16,
   "id": "38b8c106",
   "metadata": {},
   "outputs": [],
   "source": [
    "def myfilter(any_func,data):\n",
    "    l = []\n",
    "    for i in data:\n",
    "        temp = any_func(i)\n",
    "        if temp:\n",
    "            l.append(i)\n",
    "    return l"
   ]
  },
  {
   "cell_type": "code",
   "execution_count": 17,
   "id": "33e877a8",
   "metadata": {},
   "outputs": [],
   "source": [
    "def YesOrNo(data):\n",
    "    if data > 5:\n",
    "        return True\n",
    "    else:\n",
    "        return False"
   ]
  },
  {
   "cell_type": "code",
   "execution_count": 18,
   "id": "8cd5c03b",
   "metadata": {},
   "outputs": [
    {
     "name": "stdout",
     "output_type": "stream",
     "text": [
      "[23, 7, 8]\n"
     ]
    }
   ],
   "source": [
    "print(myfilter(YesOrNo,[1,23,5,7,8]))"
   ]
  },
  {
   "cell_type": "markdown",
   "id": "1d43b7af",
   "metadata": {},
   "source": [
    "# Question3 solution"
   ]
  },
  {
   "cell_type": "code",
   "execution_count": 19,
   "id": "d5f93b0e",
   "metadata": {},
   "outputs": [],
   "source": [
    "let = 'xyz'"
   ]
  },
  {
   "cell_type": "code",
   "execution_count": 21,
   "id": "450aab94",
   "metadata": {},
   "outputs": [
    {
     "data": {
      "text/plain": [
       "['x', 'xx', 'xxx', 'xxxx', 'y', 'yy', 'yyy', 'yyyy', 'z', 'zz', 'zzz', 'zzzz']"
      ]
     },
     "execution_count": 21,
     "metadata": {},
     "output_type": "execute_result"
    }
   ],
   "source": [
    "x = []\n",
    "for i in let:\n",
    "    for j in range(1,5):\n",
    "        x.append(j*i)\n",
    "x"
   ]
  },
  {
   "cell_type": "code",
   "execution_count": 22,
   "id": "51d706f3",
   "metadata": {},
   "outputs": [
    {
     "data": {
      "text/plain": [
       "['x', 'y', 'z', 'xx', 'yy', 'zz', 'xxx', 'yyy', 'zzz', 'xxxx', 'yyyy', 'zzzz']"
      ]
     },
     "execution_count": 22,
     "metadata": {},
     "output_type": "execute_result"
    }
   ],
   "source": [
    "x=[]\n",
    "for i in range(1,5):\n",
    "    #print(i)\n",
    "    for j in let:\n",
    "        x.append(j*i)\n",
    "x"
   ]
  },
  {
   "cell_type": "markdown",
   "id": "73c5cd82",
   "metadata": {},
   "source": [
    "I didn't understand the input to be given for the other cases. Please help on what inputs to be provided."
   ]
  }
 ],
 "metadata": {
  "kernelspec": {
   "display_name": "Python 3 (ipykernel)",
   "language": "python",
   "name": "python3"
  },
  "language_info": {
   "codemirror_mode": {
    "name": "ipython",
    "version": 3
   },
   "file_extension": ".py",
   "mimetype": "text/x-python",
   "name": "python",
   "nbconvert_exporter": "python",
   "pygments_lexer": "ipython3",
   "version": "3.9.12"
  }
 },
 "nbformat": 4,
 "nbformat_minor": 5
}
