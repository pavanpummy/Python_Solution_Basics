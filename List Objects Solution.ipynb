{
 "cells": [
  {
   "cell_type": "code",
   "execution_count": 1,
   "id": "83e80335",
   "metadata": {},
   "outputs": [],
   "source": [
    "#Question1 Solution"
   ]
  },
  {
   "cell_type": "code",
   "execution_count": 2,
   "id": "1022bb65",
   "metadata": {},
   "outputs": [
    {
     "name": "stdout",
     "output_type": "stream",
     "text": [
      "10\n",
      "*\n",
      "**\n",
      "***\n",
      "****\n",
      "*****\n",
      "******\n",
      "*******\n",
      "********\n",
      "*********\n",
      "**********\n",
      "*********\n",
      "********\n",
      "*******\n",
      "******\n",
      "*****\n",
      "****\n",
      "***\n",
      "**\n",
      "*\n"
     ]
    }
   ],
   "source": [
    "n= int(input())\n",
    "for i in range(1,n+1):\n",
    "    for j in range(1,i):\n",
    "        print('*',end='')\n",
    "    print('*')\n",
    "for i in reversed(range(1,n)):\n",
    "    for j in reversed(range(1,i)):\n",
    "        print('*',end='')\n",
    "    print('*')"
   ]
  },
  {
   "cell_type": "code",
   "execution_count": 3,
   "id": "4bf43eb6",
   "metadata": {},
   "outputs": [],
   "source": [
    "#Question2 Solution"
   ]
  },
  {
   "cell_type": "code",
   "execution_count": 4,
   "id": "b984d117",
   "metadata": {},
   "outputs": [
    {
     "name": "stdout",
     "output_type": "stream",
     "text": [
      "Input word::ineuron\n",
      "output::norueni\n"
     ]
    }
   ],
   "source": [
    "ReverseWord = input('Input word::')\n",
    "print('output::'+ ReverseWord[::-1])"
   ]
  }
 ],
 "metadata": {
  "kernelspec": {
   "display_name": "Python 3 (ipykernel)",
   "language": "python",
   "name": "python3"
  },
  "language_info": {
   "codemirror_mode": {
    "name": "ipython",
    "version": 3
   },
   "file_extension": ".py",
   "mimetype": "text/x-python",
   "name": "python",
   "nbconvert_exporter": "python",
   "pygments_lexer": "ipython3",
   "version": "3.9.12"
  }
 },
 "nbformat": 4,
 "nbformat_minor": 5
}
