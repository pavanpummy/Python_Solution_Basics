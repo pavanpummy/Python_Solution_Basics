{
 "cells": [
  {
   "cell_type": "markdown",
   "id": "0636ca12",
   "metadata": {},
   "source": [
    "# Question 1 solution"
   ]
  },
  {
   "cell_type": "code",
   "execution_count": 1,
   "id": "adaf2cfd",
   "metadata": {},
   "outputs": [],
   "source": [
    "def five_div(x):\n",
    "    try:\n",
    "        return x/0\n",
    "    except ZeroDivisionError as e:\n",
    "            return 'well it was zero divide assignment'\n",
    "    except Exception as e:\n",
    "            return 'In the exception area'"
   ]
  },
  {
   "cell_type": "code",
   "execution_count": 2,
   "id": "56eac1a2",
   "metadata": {},
   "outputs": [
    {
     "name": "stdout",
     "output_type": "stream",
     "text": [
      "well it was zero divide assignment\n"
     ]
    }
   ],
   "source": [
    "print(five_div(5))"
   ]
  },
  {
   "cell_type": "markdown",
   "id": "e6e3d1b4",
   "metadata": {},
   "source": [
    "# Question 2 solution"
   ]
  },
  {
   "cell_type": "code",
   "execution_count": 3,
   "id": "63c4626a",
   "metadata": {},
   "outputs": [],
   "source": [
    "def sentenceMatter(subjects,verbs,objects):\n",
    "    for sub in subjects:\n",
    "        for ver in verbs:\n",
    "            for obj in objects:\n",
    "                print(sub+' '+ver+' '+obj)"
   ]
  },
  {
   "cell_type": "code",
   "execution_count": 4,
   "id": "965c3a5e",
   "metadata": {},
   "outputs": [],
   "source": [
    "subjects=[\"Americans\",\"Indians\"]\n",
    "verbs=[\"play\",\"watch\"]\n",
    "objects=[\"Baseball\",\"Cricket\"]"
   ]
  },
  {
   "cell_type": "code",
   "execution_count": 5,
   "id": "ed725b49",
   "metadata": {},
   "outputs": [
    {
     "name": "stdout",
     "output_type": "stream",
     "text": [
      "Americans play Baseball\n",
      "Americans play Cricket\n",
      "Americans watch Baseball\n",
      "Americans watch Cricket\n",
      "Indians play Baseball\n",
      "Indians play Cricket\n",
      "Indians watch Baseball\n",
      "Indians watch Cricket\n"
     ]
    }
   ],
   "source": [
    "sentenceMatter(subjects,verbs,objects)"
   ]
  },
  {
   "cell_type": "code",
   "execution_count": null,
   "id": "0b427ceb",
   "metadata": {},
   "outputs": [],
   "source": []
  }
 ],
 "metadata": {
  "kernelspec": {
   "display_name": "Python 3 (ipykernel)",
   "language": "python",
   "name": "python3"
  },
  "language_info": {
   "codemirror_mode": {
    "name": "ipython",
    "version": 3
   },
   "file_extension": ".py",
   "mimetype": "text/x-python",
   "name": "python",
   "nbconvert_exporter": "python",
   "pygments_lexer": "ipython3",
   "version": "3.9.13"
  }
 },
 "nbformat": 4,
 "nbformat_minor": 5
}
